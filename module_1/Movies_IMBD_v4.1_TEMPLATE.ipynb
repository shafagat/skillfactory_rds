{
 "cells": [
  {
   "cell_type": "code",
   "execution_count": 93,
   "metadata": {
    "_cell_guid": "b1076dfc-b9ad-4769-8c92-a6c4dae69d19",
    "_uuid": "8f2839f25d086af736a60e9eeb907d3b93b6e0e5",
    "colab": {},
    "colab_type": "code",
    "id": "U2D2gTdJVp90"
   },
   "outputs": [],
   "source": [
    "import numpy as np\n",
    "import pandas as pd\n",
    "import seaborn as sns\n",
    "import matplotlib.pyplot as plt\n",
    "from collections import Counter\n",
    "from itertools import combinations"
   ]
  },
  {
   "cell_type": "code",
   "execution_count": 94,
   "metadata": {
    "_cell_guid": "79c7e3d0-c299-4dcb-8224-4455121ee9b0",
    "_uuid": "d629ff2d2480ee46fbb7e2d37f6b5fab8052498a",
    "colab": {},
    "colab_type": "code",
    "id": "oyGfxL3eVp9-",
    "scrolled": false
   },
   "outputs": [
    {
     "data": {
      "text/html": [
       "<div>\n",
       "<style scoped>\n",
       "    .dataframe tbody tr th:only-of-type {\n",
       "        vertical-align: middle;\n",
       "    }\n",
       "\n",
       "    .dataframe tbody tr th {\n",
       "        vertical-align: top;\n",
       "    }\n",
       "\n",
       "    .dataframe thead th {\n",
       "        text-align: right;\n",
       "    }\n",
       "</style>\n",
       "<table border=\"1\" class=\"dataframe\">\n",
       "  <thead>\n",
       "    <tr style=\"text-align: right;\">\n",
       "      <th></th>\n",
       "      <th>imdb_id</th>\n",
       "      <th>budget</th>\n",
       "      <th>revenue</th>\n",
       "      <th>original_title</th>\n",
       "      <th>cast</th>\n",
       "      <th>director</th>\n",
       "      <th>tagline</th>\n",
       "      <th>overview</th>\n",
       "      <th>runtime</th>\n",
       "      <th>genres</th>\n",
       "      <th>production_companies</th>\n",
       "      <th>release_date</th>\n",
       "      <th>vote_average</th>\n",
       "      <th>release_year</th>\n",
       "    </tr>\n",
       "  </thead>\n",
       "  <tbody>\n",
       "    <tr>\n",
       "      <th>1465</th>\n",
       "      <td>tt0405469</td>\n",
       "      <td>80000000</td>\n",
       "      <td>37384046</td>\n",
       "      <td>The Wild</td>\n",
       "      <td>Kiefer Sutherland|Jim Belushi|Eddie Izzard|Jan...</td>\n",
       "      <td>Steve 'Spaz' Williams</td>\n",
       "      <td>The Circle Of Life, meets the big apple.</td>\n",
       "      <td>An adolescent lion is accidentally shipped fro...</td>\n",
       "      <td>94</td>\n",
       "      <td>Family|Animation</td>\n",
       "      <td>Walt Disney Pictures|Contrafilm|C.O.R.E. Featu...</td>\n",
       "      <td>3/6/2006</td>\n",
       "      <td>5.2</td>\n",
       "      <td>2006</td>\n",
       "    </tr>\n",
       "    <tr>\n",
       "      <th>1367</th>\n",
       "      <td>tt0355295</td>\n",
       "      <td>88000000</td>\n",
       "      <td>105316267</td>\n",
       "      <td>The Brothers Grimm</td>\n",
       "      <td>Heath Ledger|Matt Damon|Mackenzie Crook|Roger ...</td>\n",
       "      <td>Terry Gilliam</td>\n",
       "      <td>Eliminating Evil Since 1812.</td>\n",
       "      <td>Folklore collectors and con artists, Jake and ...</td>\n",
       "      <td>118</td>\n",
       "      <td>Adventure|Fantasy|Action|Comedy|Thriller</td>\n",
       "      <td>The Weinstein Company|Summit Entertainment|Atl...</td>\n",
       "      <td>8/25/2005</td>\n",
       "      <td>5.4</td>\n",
       "      <td>2005</td>\n",
       "    </tr>\n",
       "    <tr>\n",
       "      <th>567</th>\n",
       "      <td>tt0278488</td>\n",
       "      <td>12000000</td>\n",
       "      <td>31155435</td>\n",
       "      <td>How High</td>\n",
       "      <td>Method Man|Redman|Obba BabatundÃ©|Mike Epps|An...</td>\n",
       "      <td>Jesse Dylan</td>\n",
       "      <td>They've got their degrees all rolled up.</td>\n",
       "      <td>Multi-platinum rap superstars Redman and Metho...</td>\n",
       "      <td>93</td>\n",
       "      <td>Comedy</td>\n",
       "      <td>Universal Pictures|Jersey Films|Native Picture...</td>\n",
       "      <td>12/21/2001</td>\n",
       "      <td>6.5</td>\n",
       "      <td>2001</td>\n",
       "    </tr>\n",
       "    <tr>\n",
       "      <th>1009</th>\n",
       "      <td>tt1748122</td>\n",
       "      <td>16000000</td>\n",
       "      <td>68263166</td>\n",
       "      <td>Moonrise Kingdom</td>\n",
       "      <td>Bruce Willis|Edward Norton|Jared Gilman|Kara H...</td>\n",
       "      <td>Wes Anderson</td>\n",
       "      <td>A tormenting and surprising story of children ...</td>\n",
       "      <td>Set on an island off the coast of New England ...</td>\n",
       "      <td>94</td>\n",
       "      <td>Comedy|Drama|Romance</td>\n",
       "      <td>Scott Rudin Productions|Indian Paintbrush|Amer...</td>\n",
       "      <td>5/16/2012</td>\n",
       "      <td>7.6</td>\n",
       "      <td>2012</td>\n",
       "    </tr>\n",
       "    <tr>\n",
       "      <th>1359</th>\n",
       "      <td>tt0443536</td>\n",
       "      <td>15000000</td>\n",
       "      <td>51053787</td>\n",
       "      <td>Hoodwinked!</td>\n",
       "      <td>Anne Hathaway|Glenn Close|Jim Belushi|Patrick ...</td>\n",
       "      <td>Cory Edwards|Todd Edwards|Tony Leech</td>\n",
       "      <td>Armed And Dangerously Dumb.</td>\n",
       "      <td>The recipes of candies of the goody shops have...</td>\n",
       "      <td>80</td>\n",
       "      <td>Animation|Comedy|Family</td>\n",
       "      <td>The Weinstein Company|Kanbar Entertainment|Blu...</td>\n",
       "      <td>12/16/2005</td>\n",
       "      <td>6.0</td>\n",
       "      <td>2005</td>\n",
       "    </tr>\n",
       "  </tbody>\n",
       "</table>\n",
       "</div>"
      ],
      "text/plain": [
       "        imdb_id    budget    revenue      original_title  \\\n",
       "1465  tt0405469  80000000   37384046            The Wild   \n",
       "1367  tt0355295  88000000  105316267  The Brothers Grimm   \n",
       "567   tt0278488  12000000   31155435            How High   \n",
       "1009  tt1748122  16000000   68263166    Moonrise Kingdom   \n",
       "1359  tt0443536  15000000   51053787         Hoodwinked!   \n",
       "\n",
       "                                                   cast  \\\n",
       "1465  Kiefer Sutherland|Jim Belushi|Eddie Izzard|Jan...   \n",
       "1367  Heath Ledger|Matt Damon|Mackenzie Crook|Roger ...   \n",
       "567   Method Man|Redman|Obba BabatundÃ©|Mike Epps|An...   \n",
       "1009  Bruce Willis|Edward Norton|Jared Gilman|Kara H...   \n",
       "1359  Anne Hathaway|Glenn Close|Jim Belushi|Patrick ...   \n",
       "\n",
       "                                  director  \\\n",
       "1465                 Steve 'Spaz' Williams   \n",
       "1367                         Terry Gilliam   \n",
       "567                            Jesse Dylan   \n",
       "1009                          Wes Anderson   \n",
       "1359  Cory Edwards|Todd Edwards|Tony Leech   \n",
       "\n",
       "                                                tagline  \\\n",
       "1465           The Circle Of Life, meets the big apple.   \n",
       "1367                       Eliminating Evil Since 1812.   \n",
       "567            They've got their degrees all rolled up.   \n",
       "1009  A tormenting and surprising story of children ...   \n",
       "1359                        Armed And Dangerously Dumb.   \n",
       "\n",
       "                                               overview  runtime  \\\n",
       "1465  An adolescent lion is accidentally shipped fro...       94   \n",
       "1367  Folklore collectors and con artists, Jake and ...      118   \n",
       "567   Multi-platinum rap superstars Redman and Metho...       93   \n",
       "1009  Set on an island off the coast of New England ...       94   \n",
       "1359  The recipes of candies of the goody shops have...       80   \n",
       "\n",
       "                                        genres  \\\n",
       "1465                          Family|Animation   \n",
       "1367  Adventure|Fantasy|Action|Comedy|Thriller   \n",
       "567                                     Comedy   \n",
       "1009                      Comedy|Drama|Romance   \n",
       "1359                   Animation|Comedy|Family   \n",
       "\n",
       "                                   production_companies release_date  \\\n",
       "1465  Walt Disney Pictures|Contrafilm|C.O.R.E. Featu...     3/6/2006   \n",
       "1367  The Weinstein Company|Summit Entertainment|Atl...    8/25/2005   \n",
       "567   Universal Pictures|Jersey Films|Native Picture...   12/21/2001   \n",
       "1009  Scott Rudin Productions|Indian Paintbrush|Amer...    5/16/2012   \n",
       "1359  The Weinstein Company|Kanbar Entertainment|Blu...   12/16/2005   \n",
       "\n",
       "      vote_average  release_year  \n",
       "1465           5.2          2006  \n",
       "1367           5.4          2005  \n",
       "567            6.5          2001  \n",
       "1009           7.6          2012  \n",
       "1359           6.0          2005  "
      ]
     },
     "execution_count": 94,
     "metadata": {},
     "output_type": "execute_result"
    }
   ],
   "source": [
    "data = pd.read_csv('movie_bd_v5.csv')\n",
    "data.sample(5)"
   ]
  },
  {
   "cell_type": "code",
   "execution_count": 95,
   "metadata": {
    "colab": {},
    "colab_type": "code",
    "id": "CoYUnagMVp-C"
   },
   "outputs": [
    {
     "data": {
      "text/html": [
       "<div>\n",
       "<style scoped>\n",
       "    .dataframe tbody tr th:only-of-type {\n",
       "        vertical-align: middle;\n",
       "    }\n",
       "\n",
       "    .dataframe tbody tr th {\n",
       "        vertical-align: top;\n",
       "    }\n",
       "\n",
       "    .dataframe thead th {\n",
       "        text-align: right;\n",
       "    }\n",
       "</style>\n",
       "<table border=\"1\" class=\"dataframe\">\n",
       "  <thead>\n",
       "    <tr style=\"text-align: right;\">\n",
       "      <th></th>\n",
       "      <th>budget</th>\n",
       "      <th>revenue</th>\n",
       "      <th>runtime</th>\n",
       "      <th>vote_average</th>\n",
       "      <th>release_year</th>\n",
       "    </tr>\n",
       "  </thead>\n",
       "  <tbody>\n",
       "    <tr>\n",
       "      <th>count</th>\n",
       "      <td>1.889000e+03</td>\n",
       "      <td>1.889000e+03</td>\n",
       "      <td>1889.000000</td>\n",
       "      <td>1889.000000</td>\n",
       "      <td>1889.000000</td>\n",
       "    </tr>\n",
       "    <tr>\n",
       "      <th>mean</th>\n",
       "      <td>5.431083e+07</td>\n",
       "      <td>1.553653e+08</td>\n",
       "      <td>109.658549</td>\n",
       "      <td>6.140762</td>\n",
       "      <td>2007.860773</td>\n",
       "    </tr>\n",
       "    <tr>\n",
       "      <th>std</th>\n",
       "      <td>4.858721e+07</td>\n",
       "      <td>2.146698e+08</td>\n",
       "      <td>18.017041</td>\n",
       "      <td>0.764763</td>\n",
       "      <td>4.468841</td>\n",
       "    </tr>\n",
       "    <tr>\n",
       "      <th>min</th>\n",
       "      <td>5.000000e+06</td>\n",
       "      <td>2.033165e+06</td>\n",
       "      <td>63.000000</td>\n",
       "      <td>3.300000</td>\n",
       "      <td>2000.000000</td>\n",
       "    </tr>\n",
       "    <tr>\n",
       "      <th>25%</th>\n",
       "      <td>2.000000e+07</td>\n",
       "      <td>3.456058e+07</td>\n",
       "      <td>97.000000</td>\n",
       "      <td>5.600000</td>\n",
       "      <td>2004.000000</td>\n",
       "    </tr>\n",
       "    <tr>\n",
       "      <th>50%</th>\n",
       "      <td>3.800000e+07</td>\n",
       "      <td>8.361541e+07</td>\n",
       "      <td>107.000000</td>\n",
       "      <td>6.100000</td>\n",
       "      <td>2008.000000</td>\n",
       "    </tr>\n",
       "    <tr>\n",
       "      <th>75%</th>\n",
       "      <td>7.200000e+07</td>\n",
       "      <td>1.782626e+08</td>\n",
       "      <td>120.000000</td>\n",
       "      <td>6.600000</td>\n",
       "      <td>2012.000000</td>\n",
       "    </tr>\n",
       "    <tr>\n",
       "      <th>max</th>\n",
       "      <td>3.800000e+08</td>\n",
       "      <td>2.781506e+09</td>\n",
       "      <td>214.000000</td>\n",
       "      <td>8.100000</td>\n",
       "      <td>2015.000000</td>\n",
       "    </tr>\n",
       "  </tbody>\n",
       "</table>\n",
       "</div>"
      ],
      "text/plain": [
       "             budget       revenue      runtime  vote_average  release_year\n",
       "count  1.889000e+03  1.889000e+03  1889.000000   1889.000000   1889.000000\n",
       "mean   5.431083e+07  1.553653e+08   109.658549      6.140762   2007.860773\n",
       "std    4.858721e+07  2.146698e+08    18.017041      0.764763      4.468841\n",
       "min    5.000000e+06  2.033165e+06    63.000000      3.300000   2000.000000\n",
       "25%    2.000000e+07  3.456058e+07    97.000000      5.600000   2004.000000\n",
       "50%    3.800000e+07  8.361541e+07   107.000000      6.100000   2008.000000\n",
       "75%    7.200000e+07  1.782626e+08   120.000000      6.600000   2012.000000\n",
       "max    3.800000e+08  2.781506e+09   214.000000      8.100000   2015.000000"
      ]
     },
     "execution_count": 95,
     "metadata": {},
     "output_type": "execute_result"
    }
   ],
   "source": [
    "data.describe()"
   ]
  },
  {
   "cell_type": "code",
   "execution_count": 96,
   "metadata": {
    "colab": {},
    "colab_type": "code",
    "id": "IfcaRO9-VqAX",
    "outputId": "0f132912-32bb-4196-c98c-abfbc4ad5a5f",
    "scrolled": true
   },
   "outputs": [],
   "source": [
    "# в конце можно посмотреть свои ответы к каждому вопросу\n"
   ]
  },
  {
   "cell_type": "markdown",
   "metadata": {
    "colab_type": "text",
    "id": "DTIt7ezGVp-G"
   },
   "source": [
    "# Предобработка"
   ]
  },
  {
   "cell_type": "code",
   "execution_count": 97,
   "metadata": {
    "colab": {},
    "colab_type": "code",
    "id": "jNb40DwKVp-H"
   },
   "outputs": [],
   "source": [
    "answers = {} # создадим словарь для ответов\n",
    "\n",
    "def get_month(date):\n",
    "    calendar = {\n",
    "        '1' : 'Январь',\n",
    "        '2' : 'Февраль',\n",
    "        '3' : 'Март',\n",
    "        '4' : 'Апрель',\n",
    "        '5' : 'Май',\n",
    "        '6' : 'Июнь',\n",
    "        '7' : 'Июль',\n",
    "        '8' : 'Август',\n",
    "        '9' : 'Сентябрь',\n",
    "        '10' : 'Октябрь',\n",
    "        '11' : 'Ноябрь',\n",
    "        '12' : 'Декабрь',\n",
    "    }\n",
    "    return calendar[date.split('/')[0]]\n",
    "\n",
    "\n",
    "data['profit'] = data.apply(lambda x: x.revenue - x.budget, axis=1)\n",
    "data['release_month'] = data.release_date.apply(get_month)\n",
    "# тут другие ваши предобработки колонок например:\n",
    "\n",
    "#the time given in the dataset is in string format.\n",
    "#So we need to change this in datetime format\n",
    "# ..."
   ]
  },
  {
   "cell_type": "markdown",
   "metadata": {
    "colab_type": "text",
    "id": "YxZaH-nPVp-L"
   },
   "source": [
    "# 1. У какого фильма из списка самый большой бюджет?"
   ]
  },
  {
   "cell_type": "markdown",
   "metadata": {
    "colab_type": "text",
    "id": "Nd-G5gX6Vp-M"
   },
   "source": [
    "Использовать варианты ответов в коде решения запрещено.    \n",
    "Вы думаете и в жизни у вас будут варианты ответов?)"
   ]
  },
  {
   "cell_type": "code",
   "execution_count": 98,
   "metadata": {
    "colab": {},
    "colab_type": "code",
    "id": "uVnXAY5RVp-O"
   },
   "outputs": [],
   "source": [
    "answers['1'] = 'Pirates of the Caribbean: On Stranger Tides' #+"
   ]
  },
  {
   "cell_type": "code",
   "execution_count": 99,
   "metadata": {
    "colab": {},
    "colab_type": "code",
    "id": "dZwb3m28Vp-S"
   },
   "outputs": [],
   "source": [
    "max_budget = data.sort_values('budget', ascending=False).head(1).original_title"
   ]
  },
  {
   "cell_type": "markdown",
   "metadata": {
    "colab_type": "text",
    "id": "K7L3nbRXVp-X"
   },
   "source": [
    "ВАРИАНТ 2"
   ]
  },
  {
   "cell_type": "code",
   "execution_count": 100,
   "metadata": {
    "colab": {},
    "colab_type": "code",
    "id": "OGaoQI7rVp-X"
   },
   "outputs": [],
   "source": [
    "# можно добавлять разные варианты решения"
   ]
  },
  {
   "cell_type": "markdown",
   "metadata": {
    "colab_type": "text",
    "id": "FNRbbI3vVp-c"
   },
   "source": [
    "# 2. Какой из фильмов самый длительный (в минутах)?"
   ]
  },
  {
   "cell_type": "code",
   "execution_count": 101,
   "metadata": {
    "colab": {},
    "colab_type": "code",
    "id": "vHAoEXNTVp-d"
   },
   "outputs": [],
   "source": [
    "answers['2'] = 'Gods and Generals' #+"
   ]
  },
  {
   "cell_type": "code",
   "execution_count": 102,
   "metadata": {
    "colab": {},
    "colab_type": "code",
    "id": "ot-VX2XrVp-g"
   },
   "outputs": [],
   "source": [
    "max_runtime = data.sort_values('runtime', ascending=False).head(1).original_title"
   ]
  },
  {
   "cell_type": "markdown",
   "metadata": {
    "colab_type": "text",
    "id": "bapLlpW8Vp-k"
   },
   "source": [
    "# 3. Какой из фильмов самый короткий (в минутах)?\n",
    "\n",
    "\n",
    "\n"
   ]
  },
  {
   "cell_type": "code",
   "execution_count": 103,
   "metadata": {
    "colab": {},
    "colab_type": "code",
    "id": "YBxaSHuAVp-l"
   },
   "outputs": [],
   "source": [
    "answers['3'] = 'Winnie the Pooh' #+\n",
    "min_runtime = data.sort_values('runtime', ascending=True).head(1).original_title"
   ]
  },
  {
   "cell_type": "markdown",
   "metadata": {
    "colab_type": "text",
    "id": "TfQbxbfNVp-p"
   },
   "source": [
    "# 4. Какова средняя длительность фильмов?\n"
   ]
  },
  {
   "cell_type": "code",
   "execution_count": 104,
   "metadata": {
    "colab": {},
    "colab_type": "code",
    "id": "5K6dKZYVVp-q"
   },
   "outputs": [],
   "source": [
    "answers['4'] = '110' #+\n",
    "runtime_mean = data.runtime.agg(['mean'])"
   ]
  },
  {
   "cell_type": "markdown",
   "metadata": {
    "colab_type": "text",
    "id": "r5TvbnT_Vp-u"
   },
   "source": [
    "# 5. Каково медианное значение длительности фильмов? "
   ]
  },
  {
   "cell_type": "code",
   "execution_count": 105,
   "metadata": {
    "colab": {},
    "colab_type": "code",
    "id": "iBROplKnVp-v"
   },
   "outputs": [],
   "source": [
    "answers['5'] = '107.0' #+\n",
    "runtime_median = data.runtime.agg(['median'])"
   ]
  },
  {
   "cell_type": "markdown",
   "metadata": {
    "colab_type": "text",
    "id": "39P-deDSVp-y"
   },
   "source": [
    "# 6. Какой самый прибыльный фильм?\n",
    "#### Внимание! Здесь и далее под «прибылью» или «убытками» понимается разность между сборами и бюджетом фильма. (прибыль = сборы - бюджет) в нашем датасете это будет (profit = revenue - budget) "
   ]
  },
  {
   "cell_type": "code",
   "execution_count": 106,
   "metadata": {
    "colab": {},
    "colab_type": "code",
    "id": "UYZh4T9WVp-y"
   },
   "outputs": [],
   "source": [
    "answers['6'] = 'Avatar' #+\n",
    "max_profit = data.sort_values('profit', ascending=False).head(1).original_title\n"
   ]
  },
  {
   "cell_type": "markdown",
   "metadata": {
    "colab_type": "text",
    "id": "M99JmIX4Vp-2"
   },
   "source": [
    "# 7. Какой фильм самый убыточный? "
   ]
  },
  {
   "cell_type": "code",
   "execution_count": 107,
   "metadata": {
    "colab": {},
    "colab_type": "code",
    "id": "w-D2m4XPVp-3"
   },
   "outputs": [],
   "source": [
    "answers['7'] = 'The Lone Ranger' #+\n",
    "min_profit = data.sort_values('profit', ascending=True).head(1).original_title"
   ]
  },
  {
   "cell_type": "markdown",
   "metadata": {
    "colab_type": "text",
    "id": "wEOM5ERVVp-6"
   },
   "source": [
    "# 8. У скольких фильмов из датасета объем сборов оказался выше бюджета?"
   ]
  },
  {
   "cell_type": "code",
   "execution_count": 108,
   "metadata": {
    "colab": {},
    "colab_type": "code",
    "id": "y00_7HD6Vp-7"
   },
   "outputs": [],
   "source": [
    "answers['8'] = '1478' #+\n",
    "answer_8 = data.copy() \n",
    "answer_8 = answer_8.query('profit > 0').count().imdb_id"
   ]
  },
  {
   "cell_type": "markdown",
   "metadata": {
    "colab_type": "text",
    "id": "xhpspA9KVp_A"
   },
   "source": [
    "# 9. Какой фильм оказался самым кассовым в 2008 году?"
   ]
  },
  {
   "cell_type": "code",
   "execution_count": 109,
   "metadata": {
    "colab": {},
    "colab_type": "code",
    "id": "MoUyQr9RVp_B"
   },
   "outputs": [],
   "source": [
    "answers['9'] = 'The Dark Knight' #+\n",
    "answer_9 = data.copy()\n",
    "answer_9 = answer_9.query('release_year == 2008' ).sort_values('profit', ascending=False).head(1).original_title"
   ]
  },
  {
   "cell_type": "markdown",
   "metadata": {
    "colab_type": "text",
    "id": "Zi4hDKidVp_F"
   },
   "source": [
    "# 10. Самый убыточный фильм за период с 2012 по 2014 г. (включительно)?\n"
   ]
  },
  {
   "cell_type": "code",
   "execution_count": 110,
   "metadata": {
    "colab": {},
    "colab_type": "code",
    "id": "XqyRmufJVp_F"
   },
   "outputs": [],
   "source": [
    "answers['10'] = 'The Lone Ranger' #+\n",
    "answer_10 = data.copy()\n",
    "answer_10 = answer_10.query('release_year >= 2012 & release_year <= 2014' ).sort_values('profit', ascending=True).head(1).original_title\n"
   ]
  },
  {
   "cell_type": "markdown",
   "metadata": {
    "colab_type": "text",
    "id": "EA7Sa9dkVp_I"
   },
   "source": [
    "# 11. Какого жанра фильмов больше всего?"
   ]
  },
  {
   "cell_type": "code",
   "execution_count": 111,
   "metadata": {
    "colab": {},
    "colab_type": "code",
    "id": "zsJAwJ8QVp_J"
   },
   "outputs": [],
   "source": [
    "answers['11'] = 'Drama' #+\n",
    "answer_11 = data.copy()\n",
    "answer_11['genres'] = answer_11.genres.str.split('|')\n",
    "answer_11 = answer_11.explode('genres')\n",
    "answer_11 = data.genres.value_counts().head(1)"
   ]
  },
  {
   "cell_type": "markdown",
   "metadata": {
    "colab_type": "text",
    "id": "Ax6g2C8SVp_M"
   },
   "source": [
    "ВАРИАНТ 2"
   ]
  },
  {
   "cell_type": "code",
   "execution_count": null,
   "metadata": {
    "colab": {},
    "colab_type": "code",
    "id": "otO3SbrSVp_N"
   },
   "outputs": [],
   "source": []
  },
  {
   "cell_type": "markdown",
   "metadata": {
    "colab_type": "text",
    "id": "T9_bPWpkVp_Q"
   },
   "source": [
    "# 12. Фильмы какого жанра чаще всего становятся прибыльными? "
   ]
  },
  {
   "cell_type": "code",
   "execution_count": 112,
   "metadata": {
    "colab": {},
    "colab_type": "code",
    "id": "Tmt8MaK1Vp_R"
   },
   "outputs": [],
   "source": [
    "answers['12'] = 'Drama' #+\n",
    "answer_12 = data.copy()\n",
    "answer_12['genres'] = answer_12.query('profit > 0').genres.str.split('|')\n",
    "answer_12 = answer_12.explode('genres')"
   ]
  },
  {
   "cell_type": "markdown",
   "metadata": {
    "colab_type": "text",
    "id": "0F23bgsDVp_U"
   },
   "source": [
    "# 13. У какого режиссера самые большие суммарные кассовые сборы?"
   ]
  },
  {
   "cell_type": "code",
   "execution_count": 113,
   "metadata": {
    "colab": {},
    "colab_type": "code",
    "id": "K6Z3J8ygVp_X"
   },
   "outputs": [],
   "source": [
    "answers['13'] = 'Peter Jackson' #+\n",
    "answer_13 = data.copy()\n",
    "answer_13['director'] = answer_13.director.str.split('|')\n",
    "answer_13 = answer_13.explode('director')\n",
    "answer_13 = answer_13.groupby('director').sum().sort_values('profit', ascending=False).head(1)"
   ]
  },
  {
   "cell_type": "markdown",
   "metadata": {
    "colab_type": "text",
    "id": "PsYC9FgRVp_a"
   },
   "source": [
    "# 14. Какой режисер снял больше всего фильмов в стиле Action?"
   ]
  },
  {
   "cell_type": "code",
   "execution_count": 114,
   "metadata": {
    "colab": {},
    "colab_type": "code",
    "id": "wd2M-wHeVp_b"
   },
   "outputs": [],
   "source": [
    "answers['14'] = 'Robert Rodriguez' #+\n",
    "answer_14 = data.copy()\n",
    "answer_14['genres'] = answer_14.genres.str.split('|')\n",
    "answer_14 = answer_14.explode('genres')\n",
    "answer_14 = answer_14.query('genres == \"Action\"')\n",
    "answer_14['director'] = answer_14.director.str.split('|')\n",
    "answer_14 = answer_14.explode('director')\n",
    "answer_14 = answer_14.groupby('director').count().sort_values('imdb_id', ascending=False).head(1)"
   ]
  },
  {
   "cell_type": "markdown",
   "metadata": {
    "colab_type": "text",
    "id": "PQ0KciD7Vp_f"
   },
   "source": [
    "# 15. Фильмы с каким актером принесли самые высокие кассовые сборы в 2012 году? "
   ]
  },
  {
   "cell_type": "code",
   "execution_count": 115,
   "metadata": {
    "colab": {},
    "colab_type": "code",
    "id": "aga62oeKVp_g"
   },
   "outputs": [],
   "source": [
    "answers['15'] = 'Chris Hemsworth' #+\n",
    "answer_15 = data.copy()\n",
    "answer_15 = answer_15.query('release_year == 2012')\n",
    "answer_15['cast'] = answer_15.cast.str.split('|')\n",
    "answer_15 = answer_15.explode('cast')\n",
    "answer_15 = answer_15.groupby('cast')\n",
    "answer_15 = answer_15.sum().sort_values('profit', ascending=False).head(1)"
   ]
  },
  {
   "cell_type": "markdown",
   "metadata": {
    "colab_type": "text",
    "id": "mWHyyL7QVp_j"
   },
   "source": [
    "# 16. Какой актер снялся в большем количестве высокобюджетных фильмов?"
   ]
  },
  {
   "cell_type": "code",
   "execution_count": 116,
   "metadata": {
    "colab": {},
    "colab_type": "code",
    "id": "qQtmHKTFVp_k"
   },
   "outputs": [],
   "source": [
    "answers['16'] = 'Matt Damon' #+\n",
    "answer_16 = data.copy()\n",
    "mean = answer_16.budget.mean()\n",
    "answer_16 = answer_16.query('budget > ' + str(mean))\n",
    "answer_16['cast'] = answer_16.cast.str.split('|')\n",
    "answer_16 = answer_16.explode('cast')\n",
    "answer_16 = answer_16.groupby('cast').count().sort_values('imdb_id', ascending=False).head(1)"
   ]
  },
  {
   "cell_type": "markdown",
   "metadata": {
    "colab_type": "text",
    "id": "NIh6AaW5Vp_n"
   },
   "source": [
    "# 17. В фильмах какого жанра больше всего снимался Nicolas Cage? "
   ]
  },
  {
   "cell_type": "code",
   "execution_count": 117,
   "metadata": {
    "colab": {},
    "colab_type": "code",
    "id": "H74SJDIBVp_n"
   },
   "outputs": [],
   "source": [
    "answers['17'] = 'Action' #+\n",
    "answer_17 = data.copy()\n",
    "answer_17['cast'] = answer_17.cast.str.split('|')\n",
    "answer_17 = answer_17.explode('cast')\n",
    "answer_17 = answer_17.query('cast == \"Nicolas Cage\"')\n",
    "answer_17['genres'] = answer_17.genres.str.split('|')\n",
    "answer_17 = answer_17.explode('genres').groupby('genres')\n",
    "answer_17 = answer_17.count().sort_values('imdb_id', ascending=False).head(1)"
   ]
  },
  {
   "cell_type": "markdown",
   "metadata": {
    "colab_type": "text",
    "id": "RqOmPRfWVp_q"
   },
   "source": [
    "# 18. Самый убыточный фильм от Paramount Pictures"
   ]
  },
  {
   "cell_type": "code",
   "execution_count": 118,
   "metadata": {
    "colab": {},
    "colab_type": "code",
    "id": "9E_B0Y96Vp_r"
   },
   "outputs": [],
   "source": [
    "answers['18'] = 'K-19: The Widowmaker' #+\n",
    "answer_18 = data.copy()\n",
    "answer_18['production_companies'] = answer_18.production_companies.str.split('|')\n",
    "answer_18 = answer_18.explode('production_companies')\n",
    "answer_18 = answer_18.query('production_companies == \"Paramount Pictures\"')\n",
    "answer_18 = answer_18.sort_values('profit', ascending=True).head(1).original_title"
   ]
  },
  {
   "cell_type": "markdown",
   "metadata": {
    "colab_type": "text",
    "id": "vS8Ur6ddVp_u"
   },
   "source": [
    "# 19. Какой год стал самым успешным по суммарным кассовым сборам?"
   ]
  },
  {
   "cell_type": "code",
   "execution_count": 119,
   "metadata": {
    "colab": {},
    "colab_type": "code",
    "id": "Dnbt4GdIVp_v"
   },
   "outputs": [],
   "source": [
    "answers['19'] = '2015' #+\n",
    "answer_19 = data.copy()\n",
    "answer_19 = answer_19.groupby('release_year')\n",
    "answer_19 = answer_19.sum().sort_values('profit', ascending=False).head(1)"
   ]
  },
  {
   "cell_type": "markdown",
   "metadata": {
    "colab_type": "text",
    "id": "JAzJh4QAVp_z"
   },
   "source": [
    "# 20. Какой самый прибыльный год для студии Warner Bros?"
   ]
  },
  {
   "cell_type": "code",
   "execution_count": 120,
   "metadata": {
    "colab": {},
    "colab_type": "code",
    "id": "wgVu02DEVp_0"
   },
   "outputs": [],
   "source": [
    "answers['20'] = '2014' #+\n",
    "answer_20 = data.copy()\n",
    "answer_20['production_companies'] = answer_20.production_companies.str.split('|')\n",
    "answer_20 = answer_20.explode('production_companies')\n",
    "answer_20 = answer_20[answer_20.production_companies.str.contains('Warner Bros')]\n",
    "answer_20 = answer_20.groupby('release_year')\n",
    "answer_20 = answer_20.sum().sort_values('profit', ascending=False).head(1)"
   ]
  },
  {
   "cell_type": "markdown",
   "metadata": {
    "colab_type": "text",
    "id": "8Im1S2HRVp_4"
   },
   "source": [
    "# 21. В каком месяце за все годы суммарно вышло больше всего фильмов?"
   ]
  },
  {
   "cell_type": "code",
   "execution_count": 121,
   "metadata": {
    "colab": {},
    "colab_type": "code",
    "id": "lev6TH7gVp_4"
   },
   "outputs": [],
   "source": [
    "answers['21'] = 'Сентябрь' #+\n",
    "answer_21 = data.copy()\n",
    "answer_21 = answer_21.groupby('release_month')\n",
    "answer_21 = answer_21.count().sort_values('imdb_id', ascending=False).head(1)"
   ]
  },
  {
   "cell_type": "markdown",
   "metadata": {
    "colab_type": "text",
    "id": "uAJsZ_NeVp_7"
   },
   "source": [
    "# 22. Сколько суммарно вышло фильмов летом? (за июнь, июль, август)"
   ]
  },
  {
   "cell_type": "code",
   "execution_count": 122,
   "metadata": {
    "colab": {},
    "colab_type": "code",
    "id": "Aa-hEREoVp_8"
   },
   "outputs": [],
   "source": [
    "answers['22'] = '450' #+\n",
    "answer_22 = data.copy()\n",
    "answer_22 = answer_22.groupby('release_month')\n",
    "answer_22 = answer_22.get_group('Июнь').count() + answer_22.get_group('Июль').count() + answer_22.get_group('Август').count()\n",
    "answer_22 = answer_22.imdb_id"
   ]
  },
  {
   "cell_type": "markdown",
   "metadata": {
    "colab_type": "text",
    "id": "G94ppOY1VqAA"
   },
   "source": [
    "# 23. Для какого режиссера зима – самое продуктивное время года? "
   ]
  },
  {
   "cell_type": "code",
   "execution_count": 123,
   "metadata": {
    "colab": {},
    "colab_type": "code",
    "id": "RhNTsamuVqAB"
   },
   "outputs": [],
   "source": [
    "answers['23'] = 'Peter Jackson' #+\n",
    "answer_22 = data.copy()\n",
    "answer_22 = answer_22.query('release_month == \"Январь\" | release_month == \"Декабрь\" | release_month == \"Февраль\"')\n",
    "answer_22['director'] = answer_22.director.str.split('|')\n",
    "answer_22 = answer_22.explode('director')\n",
    "answer_22 = answer_22.groupby('director').count().sort_values('imdb_id', ascending=False).head(1)"
   ]
  },
  {
   "cell_type": "markdown",
   "metadata": {
    "colab_type": "text",
    "id": "RBo0JVjVVqAF"
   },
   "source": [
    "# 24. Какая студия дает самые длинные названия своим фильмам по количеству символов?"
   ]
  },
  {
   "cell_type": "code",
   "execution_count": 124,
   "metadata": {
    "colab": {},
    "colab_type": "code",
    "id": "QRGS8L0iVqAG"
   },
   "outputs": [],
   "source": [
    "answers['24'] = 'Four By Two Productions'\n",
    "answer_24 = data.copy()\n",
    "answer_24['original_title'] = answer_24.original_title.apply(lambda x: len(x))\n",
    "answer_24['production_companies'] = answer_24.production_companies.str.split('|')\n",
    "answer_24 = answer_24.explode('production_companies')\n",
    "answer_24 = answer_24.groupby('production_companies').mean().sort_values('original_title', ascending=False).head(1)"
   ]
  },
  {
   "cell_type": "markdown",
   "metadata": {
    "colab_type": "text",
    "id": "9G0hbvR7VqAK"
   },
   "source": [
    "# 25. Описание фильмов какой студии в среднем самые длинные по количеству слов?"
   ]
  },
  {
   "cell_type": "code",
   "execution_count": 125,
   "metadata": {
    "colab": {},
    "colab_type": "code",
    "id": "Ge2GsLNxVqAK"
   },
   "outputs": [],
   "source": [
    "answers['25'] = 'Midnight Picture Show' #+\n",
    "answer_25 = data.copy()\n",
    "answer_25['overview'] = answer_25.overview.str.split(' ').str.len()\n",
    "answer_25['production_companies'] = answer_25.production_companies.str.split('|')\n",
    "answer_25 = answer_25.explode('production_companies')\n",
    "answer = answer_25.groupby('production_companies').mean().sort_values('overview', ascending=False).head(1)"
   ]
  },
  {
   "cell_type": "markdown",
   "metadata": {
    "colab_type": "text",
    "id": "FJ1AFt90VqAP"
   },
   "source": [
    "# 26. Какие фильмы входят в 1 процент лучших по рейтингу? \n",
    "по vote_average"
   ]
  },
  {
   "cell_type": "code",
   "execution_count": 126,
   "metadata": {
    "colab": {},
    "colab_type": "code",
    "id": "8qmJVq4CVqAQ"
   },
   "outputs": [],
   "source": [
    "answers['26'] = 'Inside Out, The Dark Knight, 12 Years a Slave' #+\n",
    "answer_26 = data.copy() \n",
    "persents = np.percentile(answer_26.vote_average, 99)\n",
    "answer_26 = answer_26[answer_26.vote_average >= persents].sort_values(by='vote_average', ascending=False)"
   ]
  },
  {
   "cell_type": "markdown",
   "metadata": {
    "colab_type": "text",
    "id": "MdXsUXbCVqAV"
   },
   "source": [
    "# 27. Какие актеры чаще всего снимаются в одном фильме вместе?\n"
   ]
  },
  {
   "cell_type": "code",
   "execution_count": 127,
   "metadata": {},
   "outputs": [],
   "source": [
    "answers['27'] = '(Daniel Radcliffe, Rupert Grint)' #+\n",
    "cast_pairs = data.copy()\n",
    "cast_pairs['cast'] = cast_pairs.cast.str.split('|')                                            \n",
    "cast_pairs.cast = cast_pairs.cast.apply(lambda x: list(combinations(sorted(x), 2)))\n",
    "cast_pairs = cast_pairs.explode('cast').cast.value_counts()"
   ]
  },
  {
   "cell_type": "markdown",
   "metadata": {
    "colab_type": "text",
    "id": "4ymnxEVoVqAW"
   },
   "source": [
    "ВАРИАНТ 2"
   ]
  },
  {
   "cell_type": "markdown",
   "metadata": {
    "colab_type": "text",
    "id": "U0nONFnGVqAX"
   },
   "source": [
    "# Submission"
   ]
  },
  {
   "cell_type": "code",
   "execution_count": 128,
   "metadata": {
    "colab": {},
    "colab_type": "code",
    "id": "SiRmHPl8VqAd"
   },
   "outputs": [
    {
     "data": {
      "text/plain": [
       "27"
      ]
     },
     "execution_count": 128,
     "metadata": {},
     "output_type": "execute_result"
    }
   ],
   "source": [
    "# и убедиться что ни чего не пропустил)\n",
    "len(answers)"
   ]
  },
  {
   "cell_type": "code",
   "execution_count": null,
   "metadata": {
    "colab": {},
    "colab_type": "code",
    "id": "uCfuTkRbVqAg"
   },
   "outputs": [],
   "source": []
  },
  {
   "cell_type": "code",
   "execution_count": null,
   "metadata": {
    "colab": {},
    "colab_type": "code",
    "id": "Vwx3NrkSVqAl"
   },
   "outputs": [],
   "source": []
  }
 ],
 "metadata": {
  "colab": {
   "name": "Copy of [SF-DST] Movies IMBD v4.1 TEMPLATE.ipynb",
   "provenance": []
  },
  "kernelspec": {
   "display_name": "Python 3",
   "language": "python",
   "name": "python3"
  },
  "language_info": {
   "codemirror_mode": {
    "name": "ipython",
    "version": 3
   },
   "file_extension": ".py",
   "mimetype": "text/x-python",
   "name": "python",
   "nbconvert_exporter": "python",
   "pygments_lexer": "ipython3",
   "version": "3.8.8"
  }
 },
 "nbformat": 4,
 "nbformat_minor": 1
}
